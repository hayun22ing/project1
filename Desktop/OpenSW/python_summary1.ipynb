{
 "cells": [
  {
   "cell_type": "markdown",
   "metadata": {},
   "source": [
    "# python정리 \n",
    "* 네모난거 하나를 셀이라고 부른다 \n",
    "* 셀에서enter치고 shift+enter누르면 셀의 결과값이 출력이 된다 \n",
    "* 실행후 아래 셀로 이동되되고\n",
    "* 셀에서 ctrl+enter하면 셀 실행 \n",
    "* 셀에서 a하면 위에 셀추가 \n",
    "* b는 아래셀추카 dd는 셀 삭제이다\n",
    "* in[*]나오면 셀이 실행중이라는 뜻이다 이러면 딴것들이 실행이 안된다 \n",
    "* 그래서 이럴땐 중지버튼 눌러주기 \n",
    "* 그리고 code에서 markdown으로 바꾸면 문서\n",
    "## 마크다운\n",
    "######## 이거 개수따라서 크기 바뀜  \n",
    "1. 이거랑  \n",
    "* 이거랑  \n",
    "    * #### 탭 누르고도 사용가능\n",
    "        1. 코드사용법 역따옴표 ` 이거를 안에 넣고 `` 코드 쓰면됨 여러개는 ``` 이렇게   \n",
    "        2. 줄바꿈이 중요 마크다운에서는 space2번 or <_br_>_는 아닌거 알지?    \n",
    "        코드에서는 \\n  \n"
   ]
  },
  {
   "cell_type": "markdown",
   "metadata": {},
   "source": [
    "## code\n",
    "## print() \n",
    "* ()안에 숫자/'문자,문자열\" '\" 상관없음 \n",
    "* '를 문자로써 쓸려면 앞에 \\이거 붙어주기 \n",
    "## 계산 \n",
    "* //몫 %나머지 **제곱(**0.5는 루트)*곱 /나누기 +-더하기빼기  \n",
    "* /나누기 // 몫(딱 짜르니까) %나머지 (남는애들이 보이니까) 숫자%2==0 짝수  \n",
    "## 비교 \n",
    "* =이 오른쪽으로 가야함(안그러면 오류)\n",
    "* =같다가 아님 왼쪽이 오른쪽으로 (할당한다)대입 ==가 같다 != 다르다 >=  <=\n",
    "## 변수\n",
    "* 변수명 숫자가 처음에만 안나오면 됨 띄어쓰기대신 _ \n",
    "* 변수= 여러타입 str(문자 열) int(정수) float(소수) boolean(True False)\n",
    "## input\n",
    "* name=input() 인풋에서 입력된 값은 자동으로 무조건 문자열로 되어서 name으로 들어간다\n",
    "* input(안에 \"질문을 넣을수도있다\")\n",
    "## 응용 예(print input)\n",
    "* name = input(\"What is your name? \")\n",
    "* print(\"Hi,\", name)\n",
    "## 타입\n",
    "* 타입바꾸기\n",
    "float(3) ‑‑> int to float 3.0\n",
    "int(3.6) ‑‑> float to int 3 버림\n",
    "str(1) ‑‑> int to string\n",
    "int(\"12\") ‑‑> string to int\n",
    "type()함수  \n",
    "## 응용 예(print type)\n",
    "int(input(\"How old are you? \"))\n",
    "digit=input(\"how many cars?\") \n",
    "# 추가\n",
    "- 반올림하기\n",
    "* format(실수, \".표기될 자리수f\") 반올림해서 보여준다\n",
    "* print(format(3.145,\".2f\"))\n",
    "* round(t실수,n) 반올림해서 보여주네  \n",
    "* int=3.145 round(int,2)\n",
    "- 실수하기 쉬운것들\n",
    "* a=input('whats your age')\n",
    "* b=input('how many your parents')  \n",
    "`print(a+b)` \n",
    "##### 인트를 인풋위에 씌워라 \n",
    "\n"
   ]
  }
 ],
 "metadata": {
  "kernelspec": {
   "display_name": "base",
   "language": "python",
   "name": "python3"
  },
  "language_info": {
   "name": "python",
   "version": "3.10.9"
  }
 },
 "nbformat": 4,
 "nbformat_minor": 2
}
